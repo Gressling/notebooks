{
  "nbformat": 4,
  "nbformat_minor": 0,
  "metadata": {
    "colab": {
      "provenance": [],
      "authorship_tag": "ABX9TyMvj5la//eoss7kSJYAcv4M",
      "include_colab_link": true
    },
    "kernelspec": {
      "name": "python3",
      "display_name": "Python 3"
    },
    "language_info": {
      "name": "python"
    }
  },
  "cells": [
    {
      "cell_type": "markdown",
      "metadata": {
        "id": "view-in-github",
        "colab_type": "text"
      },
      "source": [
        "<a href=\"https://colab.research.google.com/github/Gressling/digitalchemistry.org/blob/main/knowledge_graph_and_ontologies%5CKnowledge_Graph_and_Batch_Data.ipynb\" target=\"_parent\"><img src=\"https://colab.research.google.com/assets/colab-badge.svg\" alt=\"Open In Colab\"/></a>"
      ]
    },
    {
      "cell_type": "markdown",
      "source": [],
      "metadata": {
        "id": "UIoOPiIGHqwn"
      }
    },
    {
      "cell_type": "markdown",
      "source": [
        "# Knowledge Graph and Batch Data"
      ],
      "metadata": {
        "id": "gZ1SkI-2HtH6"
      }
    },
    {
      "cell_type": "code",
      "execution_count": 1,
      "metadata": {
        "id": "mLPxhCVg9XFA"
      },
      "outputs": [],
      "source": [
        "import sqlite3\n",
        "\n",
        "# Create a connection to the Knowledge Graph database\n",
        "conn_kg = sqlite3.connect('knowledge_graph.db')\n",
        "cursor_kg = conn_kg.cursor()\n",
        "\n",
        "# Create the reactions table\n",
        "cursor_kg.execute(\"\"\"\n",
        "    CREATE TABLE reactions (\n",
        "        id INTEGER PRIMARY KEY,\n",
        "        reaction_name TEXT,\n",
        "        catalyst TEXT,\n",
        "        reactant TEXT,\n",
        "        intermediate TEXT,\n",
        "        product TEXT\n",
        "    )\n",
        "\"\"\")\n",
        "\n",
        "# Insert the Nitration of Benzene reaction\n",
        "cursor_kg.execute(\"\"\"\n",
        "    INSERT INTO reactions (reaction_name, catalyst, reactant, intermediate, product)\n",
        "    VALUES ('Nitration of Benzene', 'Concentrated Sulfuric Acid', 'Benzene', 'Nitronium Ion', 'Nitrobenzene')\n",
        "\"\"\")\n",
        "\n",
        "conn_kg.commit()\n"
      ]
    },
    {
      "cell_type": "code",
      "source": [
        "# Create a connection to the Execution Layer database\n",
        "conn_exec = sqlite3.connect('execution_layer.db')\n",
        "cursor_exec = conn_exec.cursor()\n",
        "\n",
        "# Create the inventory and batches tables\n",
        "cursor_exec.execute(\"\"\"\n",
        "    CREATE TABLE inventory (\n",
        "        id INTEGER PRIMARY KEY,\n",
        "        chemical_name TEXT,\n",
        "        quantity_liters REAL\n",
        "    )\n",
        "\"\"\")\n",
        "\n",
        "cursor_exec.execute(\"\"\"\n",
        "    CREATE TABLE batches (\n",
        "        id INTEGER PRIMARY KEY,\n",
        "        reaction_id INTEGER,\n",
        "        date_time TEXT,\n",
        "        status TEXT,\n",
        "        FOREIGN KEY (reaction_id) REFERENCES reactions (id)\n",
        "    )\n",
        "\"\"\")\n",
        "\n",
        "# Insert some sample data\n",
        "cursor_exec.execute(\"INSERT INTO inventory (chemical_name, quantity_liters) VALUES ('Benzene', 500.0)\")\n",
        "cursor_exec.execute(\"INSERT INTO inventory (chemical_name, quantity_liters) VALUES ('Concentrated Sulfuric Acid', 200.0)\")\n",
        "cursor_exec.execute(\"INSERT INTO batches (reaction_id, date_time, status) VALUES (1, '2023-08-17 10:00:00', 'Completed')\")\n",
        "\n",
        "conn_exec.commit()\n"
      ],
      "metadata": {
        "id": "g_k-7TFz-AAU"
      },
      "execution_count": 2,
      "outputs": []
    },
    {
      "cell_type": "code",
      "source": [
        "# Query the reaction details from the Knowledge Graph\n",
        "cursor_kg.execute(\"SELECT * FROM reactions WHERE reaction_name = 'Nitration of Benzene'\")\n",
        "reaction_details = cursor_kg.fetchone()\n",
        "\n",
        "# Print the reaction details\n",
        "reaction_id, reaction_name, catalyst, reactant, intermediate, product = reaction_details\n",
        "print(f\"Reaction Details:\\nReaction: {reaction_name}\\nCatalyst: {catalyst}\\nReactant: {reactant}\\nIntermediate: {intermediate}\\nProduct: {product}\\n\")\n",
        "\n",
        "# Query the corresponding batch processing records from the Execution Layer using the reaction_id\n",
        "cursor_exec.execute(\"SELECT date_time, status FROM batches WHERE reaction_id = ?\", (reaction_id,))\n",
        "batch_records = cursor_exec.fetchall()\n",
        "\n",
        "# Print the batch processing records\n",
        "print(\"Batch Processing Records:\")\n",
        "for batch_record in batch_records:\n",
        "    date_time, status = batch_record\n",
        "    print(f\"Date/Time: {date_time}\\nStatus: {status}\\n\")\n"
      ],
      "metadata": {
        "colab": {
          "base_uri": "https://localhost:8080/"
        },
        "id": "CPKkTRFS-F21",
        "outputId": "67f0e522-f319-4c6e-9dec-9250bbabfde8"
      },
      "execution_count": 3,
      "outputs": [
        {
          "output_type": "stream",
          "name": "stdout",
          "text": [
            "Reaction Details:\n",
            "Reaction: Nitration of Benzene\n",
            "Catalyst: Concentrated Sulfuric Acid\n",
            "Reactant: Benzene\n",
            "Intermediate: Nitronium Ion\n",
            "Product: Nitrobenzene\n",
            "\n",
            "Batch Processing Records:\n",
            "Date/Time: 2023-08-17 10:00:00\n",
            "Status: Completed\n",
            "\n"
          ]
        }
      ]
    },
    {
      "cell_type": "code",
      "source": [
        "# Insert additional batch records for the Nitration of Benzene reaction\n",
        "cursor_exec.execute(\"INSERT INTO batches (reaction_id, date_time, status) VALUES (1, '2023-08-18 08:30:00', 'In Progress')\")\n",
        "cursor_exec.execute(\"INSERT INTO batches (reaction_id, date_time, status) VALUES (1, '2023-08-15 14:00:00', 'Completed')\")\n",
        "cursor_exec.execute(\"INSERT INTO batches (reaction_id, date_time, status) VALUES (1, '2023-08-16 12:00:00', 'Failed')\")\n",
        "\n",
        "conn_exec.commit()\n"
      ],
      "metadata": {
        "id": "vtoCBnlG-YAi"
      },
      "execution_count": 4,
      "outputs": []
    },
    {
      "cell_type": "code",
      "source": [
        "# Query the reaction details from the Knowledge Graph\n",
        "cursor_kg.execute(\"SELECT * FROM reactions WHERE reaction_name = 'Nitration of Benzene'\")\n",
        "reaction_details = cursor_kg.fetchone()\n",
        "\n",
        "# Print the reaction details\n",
        "reaction_id, reaction_name, catalyst, reactant, intermediate, product = reaction_details\n",
        "print(f\"Reaction Details:\\nReaction: {reaction_name}\\nCatalyst: {catalyst}\\nReactant: {reactant}\\nIntermediate: {intermediate}\\nProduct: {product}\\n\")\n",
        "\n",
        "# Query the corresponding batch processing records from the Execution Layer using the reaction_id\n",
        "cursor_exec.execute(\"SELECT date_time, status FROM batches WHERE reaction_id = ?\", (reaction_id,))\n",
        "batch_records = cursor_exec.fetchall()\n",
        "\n",
        "# Print the batch processing records\n",
        "print(\"Batch Processing Records:\")\n",
        "for batch_record in batch_records:\n",
        "    date_time, status = batch_record\n",
        "    print(f\"Date/Time: {date_time}\\nStatus: {status}\\n\")\n"
      ],
      "metadata": {
        "colab": {
          "base_uri": "https://localhost:8080/"
        },
        "id": "ONSNhnW4-aeN",
        "outputId": "cb52efcd-7796-4978-ba94-1115e1e37f50"
      },
      "execution_count": 5,
      "outputs": [
        {
          "output_type": "stream",
          "name": "stdout",
          "text": [
            "Reaction Details:\n",
            "Reaction: Nitration of Benzene\n",
            "Catalyst: Concentrated Sulfuric Acid\n",
            "Reactant: Benzene\n",
            "Intermediate: Nitronium Ion\n",
            "Product: Nitrobenzene\n",
            "\n",
            "Batch Processing Records:\n",
            "Date/Time: 2023-08-17 10:00:00\n",
            "Status: Completed\n",
            "\n",
            "Date/Time: 2023-08-18 08:30:00\n",
            "Status: In Progress\n",
            "\n",
            "Date/Time: 2023-08-15 14:00:00\n",
            "Status: Completed\n",
            "\n",
            "Date/Time: 2023-08-16 12:00:00\n",
            "Status: Failed\n",
            "\n"
          ]
        }
      ]
    },
    {
      "cell_type": "code",
      "source": [
        "# Add the expected_yield column to the reactions table\n",
        "cursor_kg.execute(\"ALTER TABLE reactions ADD COLUMN expected_yield REAL\")\n",
        "\n",
        "# Update the Nitration of Benzene reaction with an expected yield of 90%\n",
        "cursor_kg.execute(\"UPDATE reactions SET expected_yield = ? WHERE reaction_name = ?\", (90.0, 'Nitration of Benzene'))\n",
        "\n",
        "conn_kg.commit()\n"
      ],
      "metadata": {
        "id": "GO1yzQwy-iDC"
      },
      "execution_count": 6,
      "outputs": []
    },
    {
      "cell_type": "code",
      "source": [
        "# Add the actual_yield column to the batches table\n",
        "cursor_exec.execute(\"ALTER TABLE batches ADD COLUMN actual_yield REAL\")\n"
      ],
      "metadata": {
        "colab": {
          "base_uri": "https://localhost:8080/"
        },
        "id": "B3cBwdl2-mhr",
        "outputId": "51bfd44c-4838-481a-ce28-5603156c8e5b"
      },
      "execution_count": 7,
      "outputs": [
        {
          "output_type": "execute_result",
          "data": {
            "text/plain": [
              "<sqlite3.Cursor at 0x7fe86eb9b5c0>"
            ]
          },
          "metadata": {},
          "execution_count": 7
        }
      ]
    },
    {
      "cell_type": "code",
      "source": [
        "# Update the existing batch records with actual yields\n",
        "cursor_exec.execute(\"UPDATE batches SET actual_yield = ? WHERE date_time = ?\", (91.0, '2023-08-17 10:00:00'))\n",
        "cursor_exec.execute(\"UPDATE batches SET actual_yield = ? WHERE date_time = ?\", (85.0, '2023-08-15 14:00:00'))\n",
        "cursor_exec.execute(\"UPDATE batches SET actual_yield = ? WHERE date_time = ?\", (75.0, '2023-08-18 08:30:00'))\n",
        "cursor_exec.execute(\"UPDATE batches SET actual_yield = ? WHERE date_time = ?\", (93.0, '2023-08-16 12:00:00'))\n",
        "\n",
        "conn_exec.commit()"
      ],
      "metadata": {
        "id": "2jVolN1d_euH"
      },
      "execution_count": 8,
      "outputs": []
    },
    {
      "cell_type": "code",
      "source": [
        "# Query the expected yield from the Knowledge Graph\n",
        "cursor_kg.execute(\"SELECT expected_yield FROM reactions WHERE reaction_name = 'Nitration of Benzene'\")\n",
        "expected_yield = cursor_kg.fetchone()[0]\n",
        "\n",
        "# Query the actual yields from the Execution Layer\n",
        "cursor_exec.execute(\"SELECT date_time, actual_yield FROM batches WHERE reaction_id = ?\", (reaction_id,))\n",
        "batch_yields = cursor_exec.fetchall()\n",
        "\n",
        "# Analyze and compare the yields\n",
        "print(f\"Expected Yield for Nitration of Benzene: {expected_yield}%\\n\")\n",
        "print(\"Batch Yields:\")\n",
        "for batch_yield in batch_yields:\n",
        "    date_time, actual_yield = batch_yield\n",
        "    deviation = actual_yield - expected_yield\n",
        "    print(f\"Date/Time: {date_time}\\nActual Yield: {actual_yield}%\\nDeviation from Expected: {deviation}%\\n\")\n"
      ],
      "metadata": {
        "colab": {
          "base_uri": "https://localhost:8080/"
        },
        "id": "kuKUvAHn-qGz",
        "outputId": "e30ed394-3c8d-4b4f-ba01-03d02eb72f11"
      },
      "execution_count": 9,
      "outputs": [
        {
          "output_type": "stream",
          "name": "stdout",
          "text": [
            "Expected Yield for Nitration of Benzene: 90.0%\n",
            "\n",
            "Batch Yields:\n",
            "Date/Time: 2023-08-17 10:00:00\n",
            "Actual Yield: 91.0%\n",
            "Deviation from Expected: 1.0%\n",
            "\n",
            "Date/Time: 2023-08-18 08:30:00\n",
            "Actual Yield: 75.0%\n",
            "Deviation from Expected: -15.0%\n",
            "\n",
            "Date/Time: 2023-08-15 14:00:00\n",
            "Actual Yield: 85.0%\n",
            "Deviation from Expected: -5.0%\n",
            "\n",
            "Date/Time: 2023-08-16 12:00:00\n",
            "Actual Yield: 93.0%\n",
            "Deviation from Expected: 3.0%\n",
            "\n"
          ]
        }
      ]
    },
    {
      "cell_type": "code",
      "source": [
        "# Insert 10 batch records for the Nitration of Benzene reaction (two with lower yield)\n",
        "actual_yields = [88, 91, 89, 92, 85, 90, 91, 93, 89, 87] # Two yields (85, 87) do not meet the expected yield\n",
        "for i, actual_yield in enumerate(actual_yields):\n",
        "    cursor_exec.execute(\"INSERT INTO batches (reaction_id, date_time, status, actual_yield) VALUES (1, ?, 'Completed', ?)\", (f'2023-08-1{i+1} 10:00:00', actual_yield))\n",
        "\n",
        "conn_exec.commit()"
      ],
      "metadata": {
        "id": "MDEMyIfW_62V"
      },
      "execution_count": 10,
      "outputs": []
    },
    {
      "cell_type": "code",
      "source": [
        "# Query the expected yield from the Knowledge Graph\n",
        "cursor_kg.execute(\"SELECT expected_yield FROM reactions WHERE reaction_name = 'Nitration of Benzene'\")\n",
        "expected_yield = cursor_kg.fetchone()[0]\n",
        "\n",
        "# Query the actual yields from the Execution Layer\n",
        "cursor_exec.execute(\"SELECT date_time, actual_yield FROM batches WHERE reaction_id = 1\")\n",
        "batch_yields = cursor_exec.fetchall()\n",
        "\n",
        "# Analyze and compare the yields\n",
        "print(f\"Expected Yield for Nitration of Benzene: {expected_yield}%\\n\")\n",
        "print(\"Batch Yields:\")\n",
        "for batch_yield in batch_yields:\n",
        "    date_time, actual_yield = batch_yield\n",
        "    deviation = actual_yield - expected_yield\n",
        "    print(f\"Date/Time: {date_time}\\nActual Yield: {actual_yield}%\\nDeviation from Expected: {deviation}%\\n\")\n"
      ],
      "metadata": {
        "colab": {
          "base_uri": "https://localhost:8080/"
        },
        "id": "jL9PEjWgADql",
        "outputId": "3bd9cd31-bb9c-4af1-97ed-3e879868bc43"
      },
      "execution_count": 11,
      "outputs": [
        {
          "output_type": "stream",
          "name": "stdout",
          "text": [
            "Expected Yield for Nitration of Benzene: 90.0%\n",
            "\n",
            "Batch Yields:\n",
            "Date/Time: 2023-08-17 10:00:00\n",
            "Actual Yield: 91.0%\n",
            "Deviation from Expected: 1.0%\n",
            "\n",
            "Date/Time: 2023-08-18 08:30:00\n",
            "Actual Yield: 75.0%\n",
            "Deviation from Expected: -15.0%\n",
            "\n",
            "Date/Time: 2023-08-15 14:00:00\n",
            "Actual Yield: 85.0%\n",
            "Deviation from Expected: -5.0%\n",
            "\n",
            "Date/Time: 2023-08-16 12:00:00\n",
            "Actual Yield: 93.0%\n",
            "Deviation from Expected: 3.0%\n",
            "\n",
            "Date/Time: 2023-08-11 10:00:00\n",
            "Actual Yield: 88.0%\n",
            "Deviation from Expected: -2.0%\n",
            "\n",
            "Date/Time: 2023-08-12 10:00:00\n",
            "Actual Yield: 91.0%\n",
            "Deviation from Expected: 1.0%\n",
            "\n",
            "Date/Time: 2023-08-13 10:00:00\n",
            "Actual Yield: 89.0%\n",
            "Deviation from Expected: -1.0%\n",
            "\n",
            "Date/Time: 2023-08-14 10:00:00\n",
            "Actual Yield: 92.0%\n",
            "Deviation from Expected: 2.0%\n",
            "\n",
            "Date/Time: 2023-08-15 10:00:00\n",
            "Actual Yield: 85.0%\n",
            "Deviation from Expected: -5.0%\n",
            "\n",
            "Date/Time: 2023-08-16 10:00:00\n",
            "Actual Yield: 90.0%\n",
            "Deviation from Expected: 0.0%\n",
            "\n",
            "Date/Time: 2023-08-17 10:00:00\n",
            "Actual Yield: 91.0%\n",
            "Deviation from Expected: 1.0%\n",
            "\n",
            "Date/Time: 2023-08-18 10:00:00\n",
            "Actual Yield: 93.0%\n",
            "Deviation from Expected: 3.0%\n",
            "\n",
            "Date/Time: 2023-08-19 10:00:00\n",
            "Actual Yield: 89.0%\n",
            "Deviation from Expected: -1.0%\n",
            "\n",
            "Date/Time: 2023-08-110 10:00:00\n",
            "Actual Yield: 87.0%\n",
            "Deviation from Expected: -3.0%\n",
            "\n"
          ]
        }
      ]
    }
  ]
}
