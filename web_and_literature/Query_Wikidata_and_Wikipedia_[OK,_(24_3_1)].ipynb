{
  "nbformat": 4,
  "nbformat_minor": 0,
  "metadata": {
    "colab": {
      "provenance": [],
      "authorship_tag": "ABX9TyO/ujkXH3mXOu9x/PGWisdK",
      "include_colab_link": true
    },
    "kernelspec": {
      "name": "python3",
      "display_name": "Python 3"
    }
  },
  "cells": [
    {
      "cell_type": "markdown",
      "metadata": {
        "id": "view-in-github",
        "colab_type": "text"
      },
      "source": [
        "<a href=\"https://colab.research.google.com/github/Gressling/digitalchemistry.org/blob/main/web_and_literature/Query_Wikidata_and_Wikipedia_%5BOK%2C_(24_3_1)%5D.ipynb\" target=\"_parent\"><img src=\"https://colab.research.google.com/assets/colab-badge.svg\" alt=\"Open In Colab\"/></a>"
      ]
    },
    {
      "cell_type": "code",
      "metadata": {
        "id": "YH36iyxX5sFa"
      },
      "source": [
        "# Query Wikidata and Wikipedia\n",
        "# author: Gressling, T\n",
        "# license: MIT License # code: github.com/gressling/examples\n",
        "# activity: single example # index: 24-3"
      ],
      "execution_count": null,
      "outputs": []
    },
    {
      "cell_type": "code",
      "metadata": {
        "id": "29qC_SFI6Laf"
      },
      "source": [
        "!pip install wikipedia"
      ],
      "execution_count": null,
      "outputs": []
    },
    {
      "cell_type": "code",
      "metadata": {
        "id": "RR6sc_DA5yCc"
      },
      "source": [
        "import wikipedia"
      ],
      "execution_count": null,
      "outputs": []
    },
    {
      "cell_type": "code",
      "metadata": {
        "id": "Dbhv-h2-50vY",
        "outputId": "b8e24742-78e9-43b4-aadf-9dd528a53f66",
        "colab": {
          "base_uri": "https://localhost:8080/"
        }
      },
      "source": [
        "# query wikipedia to get a list\n",
        "print(wikipedia.search(\"benzoic\"))"
      ],
      "execution_count": null,
      "outputs": [
        {
          "output_type": "stream",
          "name": "stdout",
          "text": [
            "['Benzoic acid', 'Sodium benzoate', 'Benzoic anhydride', 'Potassium benzoate', 'Saccharin', 'Benzaldehyde', 'Ethyl benzoate', '4-Aminobenzoic acid', 'Work-up', 'Benzamide']\n"
          ]
        }
      ]
    },
    {
      "cell_type": "code",
      "metadata": {
        "id": "j7zs6oeO6BCq",
        "outputId": "a95f1d2c-26ea-4f7b-cc57-c4381aef82d2",
        "colab": {
          "base_uri": "https://localhost:8080/",
          "height": 161
        }
      },
      "source": [
        "# get one single article https://en.wikipedia.org/wiki/Perovskite_(structure)\n",
        "wiki = wikipedia.page(\"Benzoic acid\")\n",
        "wiki.summary"
      ],
      "execution_count": null,
      "outputs": [
        {
          "output_type": "execute_result",
          "data": {
            "text/plain": [
              "'Benzoic acid  is a white (or colorless) solid organic compound with the formula C6H5COOH, whose structure consists of a benzene ring (C6H6) with a carboxyl (−C(=O)OH) substituent. The benzoyl group is often abbreviated \"Bz\" (not to be confused with \"Bn\" which is used for benzyl), thus benzoic acid is also denoted as BzOH, since the benzoyl group has the formula –C6H5CO. It is the simplest aromatic carboxylic acid. The name is derived from gum benzoin, which was for a long time its only source. \\nBenzoic acid occurs naturally in many plants and serves as an intermediate in the biosynthesis of many secondary metabolites. Salts of benzoic acid are used as food preservatives.  Benzoic acid is an important precursor for the industrial synthesis of many other organic substances.  The salts and esters of benzoic acid are known as benzoates .\\n\\n'"
            ],
            "application/vnd.google.colaboratory.intrinsic+json": {
              "type": "string"
            }
          },
          "metadata": {},
          "execution_count": 6
        }
      ]
    },
    {
      "cell_type": "code",
      "metadata": {
        "id": "hPqQtNGJ61DL",
        "outputId": "4eadcff9-4221-469d-b817-6685fe17795b",
        "colab": {
          "base_uri": "https://localhost:8080/"
        }
      },
      "source": [
        "!pip install qwikidata"
      ],
      "execution_count": null,
      "outputs": [
        {
          "output_type": "stream",
          "name": "stdout",
          "text": [
            "Looking in indexes: https://pypi.org/simple, https://us-python.pkg.dev/colab-wheels/public/simple/\n",
            "Collecting qwikidata\n",
            "  Downloading qwikidata-0.4.2.tar.gz (22 kB)\n",
            "  Preparing metadata (setup.py) ... \u001b[?25l\u001b[?25hdone\n",
            "Collecting mypy-extensions (from qwikidata)\n",
            "  Downloading mypy_extensions-1.0.0-py3-none-any.whl (4.7 kB)\n",
            "Requirement already satisfied: requests in /usr/local/lib/python3.10/dist-packages (from qwikidata) (2.27.1)\n",
            "Requirement already satisfied: urllib3<1.27,>=1.21.1 in /usr/local/lib/python3.10/dist-packages (from requests->qwikidata) (1.26.16)\n",
            "Requirement already satisfied: certifi>=2017.4.17 in /usr/local/lib/python3.10/dist-packages (from requests->qwikidata) (2023.5.7)\n",
            "Requirement already satisfied: charset-normalizer~=2.0.0 in /usr/local/lib/python3.10/dist-packages (from requests->qwikidata) (2.0.12)\n",
            "Requirement already satisfied: idna<4,>=2.5 in /usr/local/lib/python3.10/dist-packages (from requests->qwikidata) (3.4)\n",
            "Building wheels for collected packages: qwikidata\n",
            "  Building wheel for qwikidata (setup.py) ... \u001b[?25l\u001b[?25hdone\n",
            "  Created wheel for qwikidata: filename=qwikidata-0.4.2-py3-none-any.whl size=24866 sha256=e0c9143c91d5b3921520774933f1605d116c4c4a524f48c4a75636c5013f3afd\n",
            "  Stored in directory: /root/.cache/pip/wheels/20/a2/85/3ca91fc8f95fa5be840fce552ac382bbcddaea6d2e31212ae5\n",
            "Successfully built qwikidata\n",
            "Installing collected packages: mypy-extensions, qwikidata\n",
            "Successfully installed mypy-extensions-1.0.0 qwikidata-0.4.2\n"
          ]
        }
      ]
    },
    {
      "cell_type": "code",
      "metadata": {
        "id": "lLXjHHwK6C2R"
      },
      "source": [
        "from qwikidata.entity import WikidataItem, WikidataLexeme, WikidataProperty\n",
        "from qwikidata.linked_data_interface import get_entity_dict_from_api"
      ],
      "execution_count": null,
      "outputs": []
    },
    {
      "cell_type": "code",
      "metadata": {
        "id": "z5_hL00V6FND",
        "outputId": "646afaf9-5a84-41bc-90d4-fc9ea11d9222",
        "colab": {
          "base_uri": "https://localhost:8080/"
        }
      },
      "source": [
        "# create an item representing \"benzoic acid\"\n",
        "entity = get_entity_dict_from_api(\"Q191700\")\n",
        "item = WikidataItem(entity)\n",
        "item"
      ],
      "execution_count": null,
      "outputs": [
        {
          "output_type": "execute_result",
          "data": {
            "text/plain": [
              "WikidataItem(label=benzoic acid, id=Q191700, description=chemical compound, aliases=['E210', 'phenylcarboxylic acid', 'benzenemethanoic acid', 'benzeneformic acid', 'benzenemethonic acid', 'diacylic acid', 'carboxybenzene', 'oracylic acid'], enwiki_title=Benzoic acid)"
            ]
          },
          "metadata": {},
          "execution_count": 9
        }
      ]
    },
    {
      "cell_type": "code",
      "metadata": {
        "id": "ol2XyfjV6G_h",
        "outputId": "646df5f0-d8a5-4045-c95d-2452df9cbb5d",
        "colab": {
          "base_uri": "https://localhost:8080/"
        }
      },
      "source": [
        "# create a property representing \"subclass of\"\n",
        "subclassItem = get_entity_dict_from_api(\"P3117\")\n",
        "subclass = WikidataProperty(subclassItem)\n",
        "subclass"
      ],
      "execution_count": null,
      "outputs": [
        {
          "output_type": "execute_result",
          "data": {
            "text/plain": [
              "WikidataProperty(label=DSSTox substance ID, id=P3117, description=DSSTox substance identifier (DTXSID) used in the Environmental Protection Agency CompTox Dashboard, aliases=['DTXSID', 'DTXSID ID'])"
            ]
          },
          "metadata": {},
          "execution_count": 10
        }
      ]
    }
  ]
}