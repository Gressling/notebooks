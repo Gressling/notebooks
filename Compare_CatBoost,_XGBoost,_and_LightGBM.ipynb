{
  "nbformat": 4,
  "nbformat_minor": 0,
  "metadata": {
    "colab": {
      "provenance": [],
      "authorship_tag": "ABX9TyO1/ieob5uB0k+faA/4r+Zf",
      "include_colab_link": true
    },
    "kernelspec": {
      "name": "python3",
      "display_name": "Python 3"
    },
    "language_info": {
      "name": "python"
    }
  },
  "cells": [
    {
      "cell_type": "markdown",
      "metadata": {
        "id": "view-in-github",
        "colab_type": "text"
      },
      "source": [
        "<a href=\"https://colab.research.google.com/github/Gressling/notebooks/blob/main/Compare_CatBoost%2C_XGBoost%2C_and_LightGBM.ipynb\" target=\"_parent\"><img src=\"https://colab.research.google.com/assets/colab-badge.svg\" alt=\"Open In Colab\"/></a>"
      ]
    },
    {
      "cell_type": "code",
      "source": [
        "# title: Compare CatBoost, XGBoost, and LightGBM (on sythetic datase molecular properties)\n",
        "# author: Gressling, T                               # license: MIT License\n",
        "# code: github.com/gressling/notebooks               # activity: single example\n",
        "# indices: [wiki.Q5591907]"
      ],
      "metadata": {
        "id": "PtXrv2WARpuT"
      },
      "execution_count": null,
      "outputs": []
    },
    {
      "cell_type": "code",
      "execution_count": null,
      "metadata": {
        "colab": {
          "base_uri": "https://localhost:8080/"
        },
        "id": "wHk3LzdnP6ru",
        "outputId": "fc505441-41e7-4d53-f964-eab05fecee07"
      },
      "outputs": [
        {
          "output_type": "stream",
          "name": "stdout",
          "text": [
            "   descriptor_1  descriptor_2  descriptor_3  descriptor_4  descriptor_5  \\\n",
            "0      0.374540      0.950714      0.731994      0.598658      0.156019   \n",
            "1      0.020584      0.969910      0.832443      0.212339      0.181825   \n",
            "2      0.611853      0.139494      0.292145      0.366362      0.456070   \n",
            "3      0.607545      0.170524      0.065052      0.948886      0.965632   \n",
            "4      0.122038      0.495177      0.034389      0.909320      0.258780   \n",
            "\n",
            "   descriptor_6  descriptor_7  descriptor_8  descriptor_9  descriptor_10  \\\n",
            "0      0.155995      0.058084      0.866176      0.601115       0.708073   \n",
            "1      0.183405      0.304242      0.524756      0.431945       0.291229   \n",
            "2      0.785176      0.199674      0.514234      0.592415       0.046450   \n",
            "3      0.808397      0.304614      0.097672      0.684233       0.440152   \n",
            "4      0.662522      0.311711      0.520068      0.546710       0.184854   \n",
            "\n",
            "     target  \n",
            "0  5.052581  \n",
            "1  3.840160  \n",
            "2  4.042754  \n",
            "3  4.975320  \n",
            "4  4.156834  \n"
          ]
        }
      ],
      "source": [
        "import pandas as pd\n",
        "import numpy as np\n",
        "\n",
        "# Set random seed for reproducibility\n",
        "np.random.seed(42)\n",
        "\n",
        "# Number of samples\n",
        "n_samples = 1000\n",
        "\n",
        "# Generate synthetic data\n",
        "X = np.random.rand(n_samples, 10)  # 10 molecular descriptors\n",
        "y = np.sum(X, axis=1) + np.random.normal(0, 0.1, n_samples)  # A simple linear combination plus some noise\n",
        "\n",
        "# Create a DataFrame\n",
        "columns = [f'descriptor_{i+1}' for i in range(10)]\n",
        "data = pd.DataFrame(X, columns=columns)\n",
        "data['target'] = y\n",
        "\n",
        "# Save to CSV\n",
        "data.to_csv('molecular_properties.csv', index=False)\n",
        "\n",
        "# Display the first few rows of the dataset\n",
        "print(data.head())"
      ]
    },
    {
      "cell_type": "code",
      "source": [
        "!pip install catboost"
      ],
      "metadata": {
        "id": "thbYAKpSQRME"
      },
      "execution_count": null,
      "outputs": []
    },
    {
      "cell_type": "code",
      "source": [
        "import pandas as pd\n",
        "from sklearn.model_selection import train_test_split\n",
        "from sklearn.metrics import mean_squared_error\n",
        "\n",
        "# Load dataset\n",
        "data = pd.read_csv('molecular_properties.csv')\n",
        "X = data.drop(columns=['target'])\n",
        "y = data['target']\n",
        "\n",
        "# Split dataset\n",
        "X_train, X_test, y_train, y_test = train_test_split(X, y, test_size=0.2, random_state=42)\n",
        "\n",
        "# CatBoost\n",
        "from catboost import CatBoostRegressor\n",
        "\n",
        "cat_model = CatBoostRegressor(verbose=0)\n",
        "cat_model.fit(X_train, y_train)\n",
        "cat_preds = cat_model.predict(X_test)\n",
        "cat_mse = mean_squared_error(y_test, cat_preds)\n",
        "\n",
        "# XGBoost\n",
        "import xgboost as xgb\n",
        "\n",
        "xgb_model = xgb.XGBRegressor()\n",
        "xgb_model.fit(X_train, y_train)\n",
        "xgb_preds = xgb_model.predict(X_test)\n",
        "xgb_mse = mean_squared_error(y_test, xgb_preds)\n",
        "\n",
        "# LightGBM\n",
        "import lightgbm as lgb\n",
        "\n",
        "lgb_model = lgb.LGBMRegressor()\n",
        "lgb_model.fit(X_train, y_train)\n",
        "lgb_preds = lgb_model.predict(X_test)\n",
        "lgb_mse = mean_squared_error(y_test, lgb_preds)\n"
      ],
      "metadata": {
        "id": "wCpbVPvdQK3H"
      },
      "execution_count": null,
      "outputs": []
    },
    {
      "cell_type": "code",
      "source": [
        "print(f\"CatBoost MSE: {cat_mse}\")\n",
        "print(f\"XGBoost MSE: {xgb_mse}\")\n",
        "print(f\"LightGBM MSE: {lgb_mse}\")"
      ],
      "metadata": {
        "colab": {
          "base_uri": "https://localhost:8080/"
        },
        "id": "_4EzFvtOQOf0",
        "outputId": "b4b83e30-9d52-452b-b03e-506a681cb85f"
      },
      "execution_count": null,
      "outputs": [
        {
          "output_type": "stream",
          "name": "stdout",
          "text": [
            "CatBoost MSE: 0.03005122531829603\n",
            "XGBoost MSE: 0.155008613162719\n",
            "LightGBM MSE: 0.09856335735167443\n"
          ]
        }
      ]
    },
    {
      "cell_type": "code",
      "source": [],
      "metadata": {
        "id": "ScD4gB0DQqGO"
      },
      "execution_count": null,
      "outputs": []
    }
  ]
}