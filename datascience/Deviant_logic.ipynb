{
  "nbformat": 4,
  "nbformat_minor": 0,
  "metadata": {
    "colab": {
      "provenance": [],
      "authorship_tag": "ABX9TyP9wJsjhakqd5CxSElAWXW0",
      "include_colab_link": true
    },
    "kernelspec": {
      "name": "python3",
      "display_name": "Python 3"
    },
    "language_info": {
      "name": "python"
    }
  },
  "cells": [
    {
      "cell_type": "markdown",
      "metadata": {
        "id": "view-in-github",
        "colab_type": "text"
      },
      "source": [
        "<a href=\"https://colab.research.google.com/github/Gressling/notebooks/blob/main/Deviant_logic.ipynb\" target=\"_parent\"><img src=\"https://colab.research.google.com/assets/colab-badge.svg\" alt=\"Open In Colab\"/></a>"
      ]
    },
    {
      "cell_type": "code",
      "source": [
        "# title: Deviant logic\n",
        "# author: Gressling, T                               # license: MIT License\n",
        "# code: github.com/gressling/notebooks               # activity: single example\n",
        "# indices: [wikidata.Q5266983]"
      ],
      "metadata": {
        "id": "Q90sRSUTCjSj"
      },
      "execution_count": null,
      "outputs": []
    },
    {
      "cell_type": "code",
      "execution_count": null,
      "metadata": {
        "colab": {
          "base_uri": "https://localhost:8080/"
        },
        "id": "geThvD5IEgbE",
        "outputId": "535d3946-c966-4f3e-b239-1bcd83097eae"
      },
      "outputs": [
        {
          "output_type": "stream",
          "name": "stdout",
          "text": [
            "a AND b: Unknown\n",
            "b OR c: Unknown\n"
          ]
        }
      ],
      "source": [
        "class TernaryLogic:\n",
        "    def __init__(self, value):\n",
        "        if value not in ['True', 'False', 'Unknown']:\n",
        "            raise ValueError(\"Value must be 'True', 'False', or 'Unknown'\")\n",
        "        self.value = value\n",
        "\n",
        "    def __and__(self, other):\n",
        "        if self.value == 'False' or other.value == 'False':\n",
        "            return TernaryLogic('False')\n",
        "        if self.value == 'Unknown' or other.value == 'Unknown':\n",
        "            return TernaryLogic('Unknown')\n",
        "        return TernaryLogic('True')\n",
        "\n",
        "    def __or__(self, other):\n",
        "        if self.value == 'True' or other.value == 'True':\n",
        "            return TernaryLogic('True')\n",
        "        if self.value == 'Unknown' or other.value == 'Unknown':\n",
        "            return TernaryLogic('Unknown')\n",
        "        return TernaryLogic('False')\n",
        "\n",
        "    def __str__(self):\n",
        "        return self.value\n",
        "\n",
        "# Example usage\n",
        "a = TernaryLogic('True')\n",
        "b = TernaryLogic('Unknown')\n",
        "c = TernaryLogic('False')\n",
        "\n",
        "print(\"a AND b:\", a & b)\n",
        "print(\"b OR c:\", b | c)\n"
      ]
    },
    {
      "cell_type": "code",
      "source": [
        "    values = ['True', 'False', 'Unknown']\n",
        "    print(\"Truth Table for Ternary Logic\")\n",
        "    print(\"A       B       A AND B   A OR B\")\n",
        "    for val1 in values:\n",
        "        for val2 in values:\n",
        "            a = TernaryLogic(val1)\n",
        "            b = TernaryLogic(val2)\n",
        "            print(f\"{a}    {b}    {a & b}      {a | b}\")"
      ],
      "metadata": {
        "colab": {
          "base_uri": "https://localhost:8080/"
        },
        "id": "tA4aAe9uEh5T",
        "outputId": "9c7e2ab3-4a2b-40f2-a5ce-8f5a60ce88b0"
      },
      "execution_count": null,
      "outputs": [
        {
          "output_type": "stream",
          "name": "stdout",
          "text": [
            "Truth Table for Ternary Logic\n",
            "A       B       A AND B   A OR B\n",
            "True    True    True      True\n",
            "True    False    False      True\n",
            "True    Unknown    Unknown      True\n",
            "False    True    False      True\n",
            "False    False    False      False\n",
            "False    Unknown    False      Unknown\n",
            "Unknown    True    Unknown      True\n",
            "Unknown    False    False      Unknown\n",
            "Unknown    Unknown    Unknown      Unknown\n"
          ]
        }
      ]
    }
  ]
}