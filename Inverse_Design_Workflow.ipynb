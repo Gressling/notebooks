{
  "nbformat": 4,
  "nbformat_minor": 0,
  "metadata": {
    "colab": {
      "provenance": [],
      "authorship_tag": "ABX9TyO76RjB2XuHNfprG5EVe84i",
      "include_colab_link": true
    },
    "kernelspec": {
      "name": "python3",
      "display_name": "Python 3"
    },
    "language_info": {
      "name": "python"
    }
  },
  "cells": [
    {
      "cell_type": "markdown",
      "metadata": {
        "id": "view-in-github",
        "colab_type": "text"
      },
      "source": [
        "<a href=\"https://colab.research.google.com/github/Gressling/notebooks/blob/main/Inverse_Design_Workflow.ipynb\" target=\"_parent\"><img src=\"https://colab.research.google.com/assets/colab-badge.svg\" alt=\"Open In Colab\"/></a>"
      ]
    },
    {
      "cell_type": "code",
      "source": [
        "# title: Inverse Design Workflow\n",
        "# author: Gressling, T                               # license: MIT License\n",
        "# code: github.com/gressling/notebooks               # activity: single example\n",
        "# indices: -\n",
        ""
      ],
      "metadata": {
        "id": "oETiNbHM_MLU"
      },
      "execution_count": null,
      "outputs": []
    },
    {
      "cell_type": "code",
      "execution_count": null,
      "metadata": {
        "id": "zXfl65Dldf2R"
      },
      "outputs": [],
      "source": [
        "!pip install scikit-learn rdkit numpy"
      ]
    },
    {
      "cell_type": "code",
      "source": [
        "import numpy as np\n",
        "from rdkit import Chem\n",
        "from rdkit.Chem import Descriptors\n",
        "from sklearn.ensemble import RandomForestRegressor\n",
        "from sklearn.exceptions import DataConversionWarning\n",
        "import warnings\n",
        "\n",
        "warnings.filterwarnings(action='ignore', category=DataConversionWarning)"
      ],
      "metadata": {
        "id": "t_ugo5yKiSKT"
      },
      "execution_count": null,
      "outputs": []
    },
    {
      "cell_type": "code",
      "source": [
        "def define_target_properties():\n",
        "    print(\"Defining target properties...\")\n",
        "    target_properties = {\n",
        "        'melting_point': 300.0,  # Example target property\n",
        "        'solubility': 0.5\n",
        "    }\n",
        "    print(f\"Target properties: {target_properties}\")\n",
        "    return target_properties\n",
        "\n",
        "def generate_candidate_molecules(target_properties):\n",
        "    print(\"Generating candidate molecules...\")\n",
        "    smiles_list = [\n",
        "        'CCO', 'CCN', 'CCC', 'CCCl'\n",
        "    ]\n",
        "    molecules = [Chem.MolFromSmiles(smiles) for smiles in smiles_list]\n",
        "    candidates = [(molecule, target_properties) for molecule in molecules]\n",
        "    print(f\"Generated {len(candidates)} candidate molecules.\")\n",
        "    return candidates\n",
        "\n",
        "def predict_properties(data):\n",
        "    molecule, target_properties = data\n",
        "    smiles = Chem.MolToSmiles(molecule)\n",
        "    print(f\"Predicting properties for molecule: {smiles}\")\n",
        "\n",
        "    features = np.array([Descriptors.MolWt(molecule), Descriptors.MolLogP(molecule)]).reshape(1, -1)\n",
        "\n",
        "    model_melting_point = RandomForestRegressor()\n",
        "    model_solubility = RandomForestRegressor()\n",
        "\n",
        "    # Dummy training for melting point\n",
        "    model_melting_point.fit(np.random.rand(10, 2), np.random.rand(10) * 500)  # Melting points between 0 and 500\n",
        "\n",
        "    # Dummy training for solubility\n",
        "    model_solubility.fit(np.random.rand(10, 2), np.random.rand(10))  # Solubility between 0 and 1\n",
        "\n",
        "    predicted_melting_point = model_melting_point.predict(features)\n",
        "    predicted_solubility = model_solubility.predict(features)\n",
        "\n",
        "    predicted_properties = {\n",
        "        'melting_point': predicted_melting_point[0],\n",
        "        'solubility': predicted_solubility[0]\n",
        "    }\n",
        "    print(f\"Predicted properties: {predicted_properties}\")\n",
        "    return molecule, predicted_properties, target_properties\n",
        "\n",
        "def evaluate_candidates(data):\n",
        "    molecule, predicted_properties, target_properties = data\n",
        "    smiles = Chem.MolToSmiles(molecule)\n",
        "    print(f\"Evaluating candidate molecule: {smiles}\")\n",
        "\n",
        "    if abs(predicted_properties['melting_point'] - target_properties['melting_point']) < 50:\n",
        "        print(f\"Candidate {smiles} is valid.\")\n",
        "        return molecule, predicted_properties  # Return experimental results\n",
        "    print(f\"Candidate {smiles} is not valid.\")\n",
        "    return None\n",
        "\n",
        "def output_valid_candidates(data):\n",
        "    if data:\n",
        "        molecule, experimental_properties = data\n",
        "        smiles = Chem.MolToSmiles(molecule)\n",
        "        print(f\"Valid candidate: {smiles} with experimental properties: {experimental_properties}\")\n"
      ],
      "metadata": {
        "id": "v1fBrH4kdnXt"
      },
      "execution_count": null,
      "outputs": []
    },
    {
      "cell_type": "code",
      "source": [
        "print(\"Starting inverse design workflow...\")\n",
        "target_properties = define_target_properties()\n",
        "candidates = generate_candidate_molecules(target_properties)\n",
        "\n",
        "for candidate in candidates:\n",
        "    predicted_data = predict_properties(candidate)\n",
        "    evaluated_candidate = evaluate_candidates(predicted_data)\n",
        "    output_valid_candidates(evaluated_candidate)\n",
        "print(\"Workflow completed.\")"
      ],
      "metadata": {
        "colab": {
          "base_uri": "https://localhost:8080/"
        },
        "id": "Q_cPC3mqfipF",
        "outputId": "bd36c084-cfe6-45fe-a957-7def1e45624f"
      },
      "execution_count": null,
      "outputs": [
        {
          "output_type": "stream",
          "name": "stdout",
          "text": [
            "Starting inverse design workflow...\n",
            "Defining target properties...\n",
            "Target properties: {'melting_point': 300.0, 'solubility': 0.5}\n",
            "Generating candidate molecules...\n",
            "Generated 4 candidate molecules.\n",
            "Predicting properties for molecule: CCO\n",
            "Predicted properties: {'melting_point': 401.459906956573, 'solubility': 0.448700690544071}\n",
            "Evaluating candidate molecule: CCO\n",
            "Candidate CCO is not valid.\n",
            "Predicting properties for molecule: CCN\n",
            "Predicted properties: {'melting_point': 443.70455801218503, 'solubility': 0.535809508939771}\n",
            "Evaluating candidate molecule: CCN\n",
            "Candidate CCN is not valid.\n",
            "Predicting properties for molecule: CCC\n",
            "Predicted properties: {'melting_point': 296.39746790095705, 'solubility': 0.5060324991001187}\n",
            "Evaluating candidate molecule: CCC\n",
            "Candidate CCC is valid.\n",
            "Valid candidate: CCC with experimental properties: {'melting_point': 296.39746790095705, 'solubility': 0.5060324991001187}\n",
            "Predicting properties for molecule: CCCl\n",
            "Predicted properties: {'melting_point': 185.9733097200104, 'solubility': 0.448356944284334}\n",
            "Evaluating candidate molecule: CCCl\n",
            "Candidate CCCl is not valid.\n",
            "Workflow completed.\n"
          ]
        }
      ]
    },
    {
      "cell_type": "code",
      "source": [],
      "metadata": {
        "id": "au-FI66vg-x1"
      },
      "execution_count": null,
      "outputs": []
    }
  ]
}