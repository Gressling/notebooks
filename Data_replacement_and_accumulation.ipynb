{
  "nbformat": 4,
  "nbformat_minor": 0,
  "metadata": {
    "colab": {
      "provenance": [],
      "authorship_tag": "ABX9TyMQNJj4TOyd/cRUFZ9DIcU4",
      "include_colab_link": true
    },
    "kernelspec": {
      "name": "python3",
      "display_name": "Python 3"
    },
    "language_info": {
      "name": "python"
    }
  },
  "cells": [
    {
      "cell_type": "markdown",
      "metadata": {
        "id": "view-in-github",
        "colab_type": "text"
      },
      "source": [
        "<a href=\"https://colab.research.google.com/github/Gressling/notebooks/blob/main/Data_replacement_and_accumulation.ipynb\" target=\"_parent\"><img src=\"https://colab.research.google.com/assets/colab-badge.svg\" alt=\"Open In Colab\"/></a>"
      ]
    },
    {
      "cell_type": "code",
      "source": [
        "# title: Data replacement and accumulation strategies\n",
        "# author: Gressling, T                               # license: MIT License\n",
        "# code: github.com/gressling/notebooks               # activity: single example\n",
        "# indices: -"
      ],
      "metadata": {
        "id": "sHiLTkIrxUZo"
      },
      "execution_count": null,
      "outputs": []
    },
    {
      "cell_type": "code",
      "execution_count": null,
      "metadata": {
        "id": "42Zyb6GWcBmN"
      },
      "outputs": [],
      "source": [
        "# Data Replacement Strategy\n",
        "# In this example, we use a fixed-size list to store the most recent data points, replacing the oldest data when new data comes in."
      ]
    },
    {
      "cell_type": "code",
      "source": [
        "class DataReplacement:\n",
        "    def __init__(self, size):\n",
        "        self.size = size\n",
        "        self.data = [None] * size\n",
        "        self.index = 0\n",
        "\n",
        "    def add_data(self, new_data):\n",
        "        self.data[self.index] = new_data\n",
        "        self.index = (self.index + 1) % self.size\n",
        "\n",
        "    def get_data(self):\n",
        "        return self.data\n",
        "\n",
        "# Example usage\n",
        "replacement_strategy = DataReplacement(size=5)\n",
        "for i in range(10):\n",
        "    replacement_strategy.add_data(i)\n",
        "    print(f\"After adding {i}: {replacement_strategy.get_data()}\")\n"
      ],
      "metadata": {
        "colab": {
          "base_uri": "https://localhost:8080/"
        },
        "id": "O2N_LSSCvLVP",
        "outputId": "c77ba5b9-6358-4118-f3dd-d9a74cf15a2e"
      },
      "execution_count": null,
      "outputs": [
        {
          "output_type": "stream",
          "name": "stdout",
          "text": [
            "After adding 0: [0, None, None, None, None]\n",
            "After adding 1: [0, 1, None, None, None]\n",
            "After adding 2: [0, 1, 2, None, None]\n",
            "After adding 3: [0, 1, 2, 3, None]\n",
            "After adding 4: [0, 1, 2, 3, 4]\n",
            "After adding 5: [5, 1, 2, 3, 4]\n",
            "After adding 6: [5, 6, 2, 3, 4]\n",
            "After adding 7: [5, 6, 7, 3, 4]\n",
            "After adding 8: [5, 6, 7, 8, 4]\n",
            "After adding 9: [5, 6, 7, 8, 9]\n"
          ]
        }
      ]
    },
    {
      "cell_type": "code",
      "source": [
        "# Data Accumulation Strategy\n",
        "# In this example, we use a list to accumulate all data points over time."
      ],
      "metadata": {
        "id": "3RHtlp2QvQ4F"
      },
      "execution_count": null,
      "outputs": []
    },
    {
      "cell_type": "code",
      "source": [
        "class DataAccumulation:\n",
        "    def __init__(self):\n",
        "        self.data = []\n",
        "\n",
        "    def add_data(self, new_data):\n",
        "        self.data.append(new_data)\n",
        "\n",
        "    def get_data(self):\n",
        "        return self.data\n",
        "\n",
        "# Example usage\n",
        "accumulation_strategy = DataAccumulation()\n",
        "for i in range(10):\n",
        "    accumulation_strategy.add_data(i)\n",
        "    print(f\"After adding {i}: {accumulation_strategy.get_data()}\")\n"
      ],
      "metadata": {
        "colab": {
          "base_uri": "https://localhost:8080/"
        },
        "id": "TBZwgudWvS2a",
        "outputId": "1ae4b495-5f43-4bb5-bd6e-24fb00de300e"
      },
      "execution_count": null,
      "outputs": [
        {
          "output_type": "stream",
          "name": "stdout",
          "text": [
            "After adding 0: [0]\n",
            "After adding 1: [0, 1]\n",
            "After adding 2: [0, 1, 2]\n",
            "After adding 3: [0, 1, 2, 3]\n",
            "After adding 4: [0, 1, 2, 3, 4]\n",
            "After adding 5: [0, 1, 2, 3, 4, 5]\n",
            "After adding 6: [0, 1, 2, 3, 4, 5, 6]\n",
            "After adding 7: [0, 1, 2, 3, 4, 5, 6, 7]\n",
            "After adding 8: [0, 1, 2, 3, 4, 5, 6, 7, 8]\n",
            "After adding 9: [0, 1, 2, 3, 4, 5, 6, 7, 8, 9]\n"
          ]
        }
      ]
    },
    {
      "cell_type": "code",
      "source": [
        "# Comparison\n",
        "# Here is a combined script to compare both strategies side by side:"
      ],
      "metadata": {
        "id": "qNaBrtWbvfI3"
      },
      "execution_count": null,
      "outputs": []
    },
    {
      "cell_type": "code",
      "source": [
        "class DataReplacement:\n",
        "    def __init__(self, size):\n",
        "        self.size = size\n",
        "        self.data = [None] * size\n",
        "        self.index = 0\n",
        "\n",
        "    def add_data(self, new_data):\n",
        "        self.data[self.index] = new_data\n",
        "        self.index = (self.index + 1) % self.size\n",
        "\n",
        "    def get_data(self):\n",
        "        return self.data\n",
        "\n",
        "class DataAccumulation:\n",
        "    def __init__(self):\n",
        "        self.data = []\n",
        "\n",
        "    def add_data(self, new_data):\n",
        "        self.data.append(new_data)\n",
        "\n",
        "    def get_data(self):\n",
        "        return self.data\n",
        "\n",
        "# Example usage\n",
        "replacement_strategy = DataReplacement(size=5)\n",
        "accumulation_strategy = DataAccumulation()\n",
        "\n",
        "for i in range(10):\n",
        "    replacement_strategy.add_data(i)\n",
        "    accumulation_strategy.add_data(i)\n",
        "    print(f\"After adding {i}:\")\n",
        "    print(f\"  Replacement Strategy: {replacement_strategy.get_data()}\")\n",
        "    print(f\"  Accumulation Strategy: {accumulation_strategy.get_data()}\")\n"
      ],
      "metadata": {
        "colab": {
          "base_uri": "https://localhost:8080/"
        },
        "id": "A7Tq_iQ6valF",
        "outputId": "e0ff6ee8-a3f5-49f0-9a32-0ea6521637ed"
      },
      "execution_count": null,
      "outputs": [
        {
          "output_type": "stream",
          "name": "stdout",
          "text": [
            "After adding 0:\n",
            "  Replacement Strategy: [0, None, None, None, None]\n",
            "  Accumulation Strategy: [0]\n",
            "After adding 1:\n",
            "  Replacement Strategy: [0, 1, None, None, None]\n",
            "  Accumulation Strategy: [0, 1]\n",
            "After adding 2:\n",
            "  Replacement Strategy: [0, 1, 2, None, None]\n",
            "  Accumulation Strategy: [0, 1, 2]\n",
            "After adding 3:\n",
            "  Replacement Strategy: [0, 1, 2, 3, None]\n",
            "  Accumulation Strategy: [0, 1, 2, 3]\n",
            "After adding 4:\n",
            "  Replacement Strategy: [0, 1, 2, 3, 4]\n",
            "  Accumulation Strategy: [0, 1, 2, 3, 4]\n",
            "After adding 5:\n",
            "  Replacement Strategy: [5, 1, 2, 3, 4]\n",
            "  Accumulation Strategy: [0, 1, 2, 3, 4, 5]\n",
            "After adding 6:\n",
            "  Replacement Strategy: [5, 6, 2, 3, 4]\n",
            "  Accumulation Strategy: [0, 1, 2, 3, 4, 5, 6]\n",
            "After adding 7:\n",
            "  Replacement Strategy: [5, 6, 7, 3, 4]\n",
            "  Accumulation Strategy: [0, 1, 2, 3, 4, 5, 6, 7]\n",
            "After adding 8:\n",
            "  Replacement Strategy: [5, 6, 7, 8, 4]\n",
            "  Accumulation Strategy: [0, 1, 2, 3, 4, 5, 6, 7, 8]\n",
            "After adding 9:\n",
            "  Replacement Strategy: [5, 6, 7, 8, 9]\n",
            "  Accumulation Strategy: [0, 1, 2, 3, 4, 5, 6, 7, 8, 9]\n"
          ]
        }
      ]
    },
    {
      "cell_type": "code",
      "source": [
        "# Visualization"
      ],
      "metadata": {
        "id": "RzaagLaqvpMs"
      },
      "execution_count": null,
      "outputs": []
    },
    {
      "cell_type": "code",
      "source": [
        "import matplotlib.pyplot as plt\n",
        "import pandas as pd\n",
        "\n",
        "class DataReplacement:\n",
        "    def __init__(self, size):\n",
        "        self.size = size\n",
        "        self.data = [None] * size\n",
        "        self.index = 0\n",
        "\n",
        "    def add_data(self, new_data):\n",
        "        self.data[self.index] = new_data\n",
        "        self.index = (self.index + 1) % self.size\n",
        "\n",
        "    def get_data(self):\n",
        "        return self.data\n",
        "\n",
        "class DataAccumulation:\n",
        "    def __init__(self):\n",
        "        self.data = []\n",
        "\n",
        "    def add_data(self, new_data):\n",
        "        self.data.append(new_data)\n",
        "\n",
        "    def get_data(self):\n",
        "        return self.data\n"
      ],
      "metadata": {
        "id": "gkgD8eRUvqxn"
      },
      "execution_count": null,
      "outputs": []
    },
    {
      "cell_type": "code",
      "source": [
        "replacement_strategy = DataReplacement(size=5)\n",
        "accumulation_strategy = DataAccumulation()\n",
        "\n",
        "for i in range(10):\n",
        "    replacement_strategy.add_data(i)\n",
        "    accumulation_strategy.add_data(i)\n"
      ],
      "metadata": {
        "id": "ORwcE11cvrQR"
      },
      "execution_count": null,
      "outputs": []
    },
    {
      "cell_type": "code",
      "source": [
        "replacement_data = replacement_strategy.get_data()\n",
        "accumulation_data = accumulation_strategy.get_data()\n",
        "\n",
        "fig, axs = plt.subplots(2, 1, figsize=(10, 6), sharex=True)\n",
        "\n",
        "# Data Replacement Plot\n",
        "axs[0].plot(range(len(replacement_data)), replacement_data, marker='o', linestyle='-', color='b')\n",
        "axs[0].set_title('Data Replacement Strategy')\n",
        "axs[0].set_ylabel('Data Points')\n",
        "axs[0].grid(True)\n",
        "\n",
        "# Data Accumulation Plot\n",
        "axs[1].plot(range(len(accumulation_data)), accumulation_data, marker='o', linestyle='-', color='g')\n",
        "axs[1].set_title('Data Accumulation Strategy')\n",
        "axs[1].set_xlabel('Time Steps')\n",
        "axs[1].set_ylabel('Data Points')\n",
        "axs[1].grid(True)\n",
        "\n",
        "plt.tight_layout()\n",
        "plt.show()\n"
      ],
      "metadata": {
        "colab": {
          "base_uri": "https://localhost:8080/",
          "height": 607
        },
        "id": "TxTRlR3Zvttz",
        "outputId": "48cdb2c5-9d47-4a77-dc2e-0dd8faab97d6"
      },
      "execution_count": null,
      "outputs": [
        {
          "output_type": "display_data",
          "data": {
            "text/plain": [
              "<Figure size 1000x600 with 2 Axes>"
            ],
            "image/png": "[encoded data removed]"
          },
          "metadata": {}
        }
      ]
    },
    {
      "cell_type": "code",
      "source": [
        "# Another example: Data Replacement Strategy"
      ],
      "metadata": {
        "id": "VDNmShBqvwLc"
      },
      "execution_count": null,
      "outputs": []
    },
    {
      "cell_type": "code",
      "source": [
        "import random\n",
        "import time\n",
        "\n",
        "# Simulate measurement function\n",
        "def measure_parameters():\n",
        "    temperature = round(25 + random.uniform(-0.5, 0.5), 2)\n",
        "    pressure = round(1 + random.uniform(-0.05, 0.05), 2)\n",
        "    concentration = round(0.1 + random.uniform(-0.01, 0.01), 3)\n",
        "    return temperature, pressure, concentration\n",
        "\n",
        "# Data replacement storage\n",
        "current_data = {\"time\": None, \"temperature\": None, \"pressure\": None, \"concentration\": None}\n",
        "\n",
        "# Simulate data collection for 5 minutes (replace old data with new data)\n",
        "for minute in range(5):\n",
        "    current_data[\"time\"] = time.strftime(\"%H:%M:%S\")\n",
        "    current_data[\"temperature\"], current_data[\"pressure\"], current_data[\"concentration\"] = measure_parameters()\n",
        "    print(current_data)\n",
        "    time.sleep(1)  # Simulate waiting for a minute\n"
      ],
      "metadata": {
        "colab": {
          "base_uri": "https://localhost:8080/"
        },
        "id": "Jh7OPMKYv6FA",
        "outputId": "079f1140-b22b-4669-cb0d-75cf24914059"
      },
      "execution_count": null,
      "outputs": [
        {
          "output_type": "stream",
          "name": "stdout",
          "text": [
            "{'time': '08:26:46', 'temperature': 24.58, 'pressure': 1.03, 'concentration': 0.091}\n",
            "{'time': '08:26:47', 'temperature': 24.99, 'pressure': 1.02, 'concentration': 0.095}\n",
            "{'time': '08:26:48', 'temperature': 24.55, 'pressure': 1.01, 'concentration': 0.095}\n",
            "{'time': '08:26:49', 'temperature': 24.55, 'pressure': 0.99, 'concentration': 0.106}\n",
            "{'time': '08:26:50', 'temperature': 25.46, 'pressure': 1.04, 'concentration': 0.101}\n"
          ]
        }
      ]
    },
    {
      "cell_type": "code",
      "source": [
        "# Data Accumulation Strategy"
      ],
      "metadata": {
        "id": "ExMNwdufv9V7"
      },
      "execution_count": null,
      "outputs": []
    },
    {
      "cell_type": "code",
      "source": [
        "import random\n",
        "import time\n",
        "\n",
        "# Simulate measurement function\n",
        "def measure_parameters():\n",
        "    temperature = round(25 + random.uniform(-0.5, 0.5), 2)\n",
        "    pressure = round(1 + random.uniform(-0.05, 0.05), 2)\n",
        "    concentration = round(0.1 + random.uniform(-0.01, 0.01), 3)\n",
        "    return temperature, pressure, concentration\n",
        "\n",
        "# Data accumulation storage\n",
        "historical_data = []\n",
        "\n",
        "# Simulate data collection for 5 minutes (accumulate all data)\n",
        "for minute in range(5):\n",
        "    current_measurement = {\n",
        "        \"time\": time.strftime(\"%H:%M:%S\"),\n",
        "        \"temperature\": measure_parameters()[0],\n",
        "        \"pressure\": measure_parameters()[1],\n",
        "        \"concentration\": measure_parameters()[2]\n",
        "    }\n",
        "    historical_data.append(current_measurement)\n",
        "    print(current_measurement)\n",
        "    time.sleep(1)  # Simulate waiting for a minute\n",
        "\n",
        "# Display all accumulated data\n",
        "print(\"\\nHistorical Data:\")\n",
        "for data in historical_data:\n",
        "    print(data)\n"
      ],
      "metadata": {
        "colab": {
          "base_uri": "https://localhost:8080/"
        },
        "id": "iuJ00hu0wKgq",
        "outputId": "35859241-bde8-4d3f-9dac-8423b176133e"
      },
      "execution_count": null,
      "outputs": [
        {
          "output_type": "stream",
          "name": "stdout",
          "text": [
            "{'time': '08:27:47', 'temperature': 25.34, 'pressure': 1.05, 'concentration': 0.092}\n",
            "{'time': '08:27:48', 'temperature': 24.95, 'pressure': 1.02, 'concentration': 0.101}\n",
            "{'time': '08:27:49', 'temperature': 25.2, 'pressure': 1.04, 'concentration': 0.095}\n",
            "{'time': '08:27:50', 'temperature': 25.01, 'pressure': 1.04, 'concentration': 0.11}\n",
            "{'time': '08:27:51', 'temperature': 24.61, 'pressure': 1.04, 'concentration': 0.108}\n",
            "\n",
            "Historical Data:\n",
            "{'time': '08:27:47', 'temperature': 25.34, 'pressure': 1.05, 'concentration': 0.092}\n",
            "{'time': '08:27:48', 'temperature': 24.95, 'pressure': 1.02, 'concentration': 0.101}\n",
            "{'time': '08:27:49', 'temperature': 25.2, 'pressure': 1.04, 'concentration': 0.095}\n",
            "{'time': '08:27:50', 'temperature': 25.01, 'pressure': 1.04, 'concentration': 0.11}\n",
            "{'time': '08:27:51', 'temperature': 24.61, 'pressure': 1.04, 'concentration': 0.108}\n"
          ]
        }
      ]
    },
    {
      "cell_type": "code",
      "source": [
        "# Data Replacement and Accumulation with Keras"
      ],
      "metadata": {
        "id": "7bM7A2ngwRBX"
      },
      "execution_count": null,
      "outputs": []
    },
    {
      "cell_type": "code",
      "source": [
        "import numpy as np\n",
        "from keras.datasets import mnist\n",
        "from keras.models import Sequential\n",
        "from keras.layers import Dense, Flatten\n",
        "from keras.utils import to_categorical\n",
        "\n",
        "# Load MNIST data\n",
        "(x_train, y_train), (x_test, y_test) = mnist.load_data()\n",
        "\n",
        "# Preprocess data\n",
        "x_train = x_train.astype('float32') / 255\n",
        "x_test = x_test.astype('float32') / 255\n",
        "y_train = to_categorical(y_train, 10)\n",
        "y_test = to_categorical(y_test, 10)\n",
        "\n",
        "# Create a simple model\n",
        "def create_model():\n",
        "    model = Sequential([\n",
        "        Flatten(input_shape=(28, 28)),\n",
        "        Dense(128, activation='relu'),\n",
        "        Dense(10, activation='softmax')\n",
        "    ])\n",
        "    model.compile(optimizer='adam', loss='categorical_crossentropy', metrics=['accuracy'])\n",
        "    return model\n"
      ],
      "metadata": {
        "colab": {
          "base_uri": "https://localhost:8080/"
        },
        "id": "VHteI_6TwRks",
        "outputId": "0cacf0b2-716b-465d-f809-2f761627f86b"
      },
      "execution_count": null,
      "outputs": [
        {
          "output_type": "stream",
          "name": "stdout",
          "text": [
            "Downloading data from https://storage.googleapis.com/tensorflow/tf-keras-datasets/mnist.npz\n",
            "11490434/11490434 [==============================] - 0s 0us/step\n"
          ]
        }
      ]
    },
    {
      "cell_type": "code",
      "source": [
        "# Simulate data replacement strategy\n",
        "def simulate_data_replacement():\n",
        "    current_batch_x = np.zeros((6000, 28, 28))\n",
        "    current_batch_y = np.zeros((6000, 10))\n",
        "\n",
        "    for i in range(6000):\n",
        "        idx = np.random.randint(0, x_train.shape[0])\n",
        "        current_batch_x[i] = x_train[idx]\n",
        "        current_batch_y[i] = y_train[idx]\n",
        "\n",
        "    return current_batch_x, current_batch_y\n",
        "\n",
        "model_replacement = create_model()\n",
        "\n",
        "# Simulate training with data replacement\n",
        "for epoch in range(5):  # 5 epochs for simplicity\n",
        "    x_batch, y_batch = simulate_data_replacement()\n",
        "    model_replacement.fit(x_batch, y_batch, epochs=1, batch_size=32, verbose=1, validation_data=(x_test, y_test))\n"
      ],
      "metadata": {
        "colab": {
          "base_uri": "https://localhost:8080/"
        },
        "id": "GiLjuehYwS7d",
        "outputId": "fd9ae859-33c6-4b31-9860-02a076c5a4bd"
      },
      "execution_count": null,
      "outputs": [
        {
          "output_type": "stream",
          "name": "stdout",
          "text": [
            "188/188 [==============================] - 4s 14ms/step - loss: 0.6553 - accuracy: 0.8162 - val_loss: 0.3535 - val_accuracy: 0.8989\n",
            "188/188 [==============================] - 2s 11ms/step - loss: 0.3213 - accuracy: 0.9090 - val_loss: 0.2803 - val_accuracy: 0.9176\n",
            "188/188 [==============================] - 2s 9ms/step - loss: 0.2744 - accuracy: 0.9225 - val_loss: 0.2408 - val_accuracy: 0.9312\n",
            "188/188 [==============================] - 5s 25ms/step - loss: 0.2036 - accuracy: 0.9402 - val_loss: 0.2190 - val_accuracy: 0.9355\n",
            "188/188 [==============================] - 1s 8ms/step - loss: 0.1959 - accuracy: 0.9422 - val_loss: 0.2290 - val_accuracy: 0.9309\n"
          ]
        }
      ]
    },
    {
      "cell_type": "code",
      "source": [
        "# Simulate data accumulation strategy\n",
        "def simulate_data_accumulation():\n",
        "    accumulated_x = []\n",
        "    accumulated_y = []\n",
        "\n",
        "    for i in range(6000):\n",
        "        idx = np.random.randint(0, x_train.shape[0])\n",
        "        accumulated_x.append(x_train[idx])\n",
        "        accumulated_y.append(y_train[idx])\n",
        "\n",
        "    return np.array(accumulated_x), np.array(accumulated_y)\n",
        "\n",
        "model_accumulation = create_model()\n",
        "\n",
        "# Simulate training with data accumulation\n",
        "for epoch in range(5):  # 5 epochs for simplicity\n",
        "    x_batch, y_batch = simulate_data_accumulation()\n",
        "    model_accumulation.fit(x_batch, y_batch, epochs=1, batch_size=32, verbose=1, validation_data=(x_test, y_test))\n"
      ],
      "metadata": {
        "colab": {
          "base_uri": "https://localhost:8080/"
        },
        "id": "8CS5PYNiwWf6",
        "outputId": "5db8b4f9-13f9-4c2b-b8fd-09adc111e7e9"
      },
      "execution_count": null,
      "outputs": [
        {
          "output_type": "stream",
          "name": "stdout",
          "text": [
            "188/188 [==============================] - 3s 13ms/step - loss: 0.6372 - accuracy: 0.8273 - val_loss: 0.3394 - val_accuracy: 0.9064\n",
            "188/188 [==============================] - 1s 6ms/step - loss: 0.3242 - accuracy: 0.9098 - val_loss: 0.2870 - val_accuracy: 0.9162\n",
            "188/188 [==============================] - 3s 15ms/step - loss: 0.2738 - accuracy: 0.9215 - val_loss: 0.2410 - val_accuracy: 0.9298\n",
            "188/188 [==============================] - 3s 14ms/step - loss: 0.2224 - accuracy: 0.9345 - val_loss: 0.2149 - val_accuracy: 0.9371\n",
            "188/188 [==============================] - 2s 10ms/step - loss: 0.2025 - accuracy: 0.9417 - val_loss: 0.1891 - val_accuracy: 0.9448\n"
          ]
        }
      ]
    },
    {
      "cell_type": "code",
      "source": [
        "# Evaluate both models on test data\n",
        "score_replacement = model_replacement.evaluate(x_test, y_test, verbose=0)\n",
        "score_accumulation = model_accumulation.evaluate(x_test, y_test, verbose=0)\n",
        "\n",
        "print(f\"Data Replacement Strategy - Test Loss: {score_replacement[0]}, Test Accuracy: {score_replacement[1]}\")\n",
        "print(f\"Data Accumulation Strategy - Test Loss: {score_accumulation[0]}, Test Accuracy: {score_accumulation[1]}\")\n"
      ],
      "metadata": {
        "colab": {
          "base_uri": "https://localhost:8080/"
        },
        "id": "70fK3qaKwZRc",
        "outputId": "d043161e-d643-43ca-adc2-f2b5de484ab1"
      },
      "execution_count": null,
      "outputs": [
        {
          "output_type": "stream",
          "name": "stdout",
          "text": [
            "Data Replacement Strategy - Test Loss: 0.22900202870368958, Test Accuracy: 0.930899977684021\n",
            "Data Accumulation Strategy - Test Loss: 0.18908998370170593, Test Accuracy: 0.9448000192642212\n"
          ]
        }
      ]
    },
    {
      "cell_type": "code",
      "source": [],
      "metadata": {
        "id": "ztePHRhWwasU"
      },
      "execution_count": null,
      "outputs": []
    }
  ]
}