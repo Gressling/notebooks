{
  "nbformat": 4,
  "nbformat_minor": 0,
  "metadata": {
    "colab": {
      "provenance": [],
      "authorship_tag": "ABX9TyMR5hdwmjp+1fK2T+GeVXzO",
      "include_colab_link": true
    },
    "kernelspec": {
      "name": "python3",
      "display_name": "Python 3"
    },
    "language_info": {
      "name": "python"
    }
  },
  "cells": [
    {
      "cell_type": "markdown",
      "metadata": {
        "id": "view-in-github",
        "colab_type": "text"
      },
      "source": [
        "<a href=\"https://colab.research.google.com/github/Gressling/notebooks/blob/main/Mixed_Integer_Optimization_for_Cost_Effective_Chemistry_Production.ipynb\" target=\"_parent\"><img src=\"https://colab.research.google.com/assets/colab-badge.svg\" alt=\"Open In Colab\"/></a>"
      ]
    },
    {
      "cell_type": "code",
      "source": [
        "# title: (MIP) Optimization: Compare two Production Scenarios\n",
        "# author: Gressling, T                               # license: MIT License\n",
        "# github: github.com/gressling/notebooks               # activity: single example\n",
        "# indices: [wiki.Q6042592]\n",
        "\n",
        "# description: Solve a mixed-integer programming problem for a chemistry production scenario.\n",
        "# It minimizes production costs while meeting demand and resource constraints,\n",
        "# ensuring both processes are used by incorporating fixed costs, binary variables, and minimum production constraints.\n"
      ],
      "metadata": {
        "id": "8XQ5FbPVMkrP"
      },
      "execution_count": null,
      "outputs": []
    },
    {
      "cell_type": "code",
      "source": [],
      "metadata": {
        "id": "xHTKYpKlO36R"
      },
      "execution_count": null,
      "outputs": []
    },
    {
      "cell_type": "code",
      "execution_count": 1,
      "metadata": {
        "colab": {
          "base_uri": "https://localhost:8080/"
        },
        "id": "cfHoB2xbJl8X",
        "outputId": "5dec8cac-a114-403f-c4a0-d009364ca412"
      },
      "outputs": [
        {
          "output_type": "stream",
          "name": "stdout",
          "text": [
            "Collecting pulp\n",
            "  Downloading PuLP-2.9.0-py3-none-any.whl.metadata (5.4 kB)\n",
            "Downloading PuLP-2.9.0-py3-none-any.whl (17.7 MB)\n",
            "\u001b[2K   \u001b[90m━━━━━━━━━━━━━━━━━━━━━━━━━━━━━━━━━━━━━━━━\u001b[0m \u001b[32m17.7/17.7 MB\u001b[0m \u001b[31m34.7 MB/s\u001b[0m eta \u001b[36m0:00:00\u001b[0m\n",
            "\u001b[?25hInstalling collected packages: pulp\n",
            "Successfully installed pulp-2.9.0\n"
          ]
        }
      ],
      "source": [
        "!pip install pulp"
      ]
    },
    {
      "cell_type": "code",
      "source": [
        "import pulp\n",
        "\n",
        "# Define the problem\n",
        "prob = pulp.LpProblem(\"Chemistry_Production\", pulp.LpMinimize)\n",
        "\n",
        "# Decision variables\n",
        "# x1 and x2 are the amounts of chemicals A and B produced in process 1 (continuous variables)\n",
        "x1 = pulp.LpVariable('x1', lowBound=0, cat='Continuous')\n",
        "x2 = pulp.LpVariable('x2', lowBound=0, cat='Continuous')\n",
        "\n",
        "# y1 and y2 are the amounts of chemicals A and B produced in process 2 (integer variables)\n",
        "y1 = pulp.LpVariable('y1', lowBound=0, cat='Integer')\n",
        "y2 = pulp.LpVariable('y2', lowBound=0, cat='Integer')\n",
        "\n",
        "# Binary variables to indicate if a process is used\n",
        "z1 = pulp.LpVariable('z1', cat='Binary')\n",
        "z2 = pulp.LpVariable('z2', cat='Binary')\n",
        "\n",
        "# Define the cost coefficients for the processes\n",
        "cost_process_1 = [5, 4]  # Variable costs to produce A and B in process 1\n",
        "cost_process_2 = [3, 2]  # Reduced variable costs to produce A and B in process 2\n",
        "\n",
        "# Fixed costs to use each process\n",
        "fixed_cost_process_1 = 50\n",
        "fixed_cost_process_2 = 80\n",
        "\n",
        "# Objective function: Minimize total production cost including fixed costs\n",
        "prob += (cost_process_1[0] * x1 + cost_process_1[1] * x2 +\n",
        "         cost_process_2[0] * y1 + cost_process_2[1] * y2 +\n",
        "         fixed_cost_process_1 * z1 + fixed_cost_process_2 * z2), \"Total_Cost\"\n",
        "\n",
        "# Constraints\n",
        "# Production capacity constraints\n",
        "prob += x1 + y1 >= 50, \"Demand_A\"  # Demand for chemical A\n",
        "prob += x2 + y2 >= 40, \"Demand_B\"  # Demand for chemical B\n",
        "\n",
        "# Resource constraints\n",
        "prob += 2 * x1 + 3 * x2 + 2 * y1 + 3 * y2 <= 300, \"Resource_Availability\"\n",
        "\n",
        "# Minimum usage constraints for both processes\n",
        "prob += z1 == 1, \"Process_1_Used\"\n",
        "prob += z2 == 1, \"Process_2_Used\"\n",
        "\n",
        "# Ensure binary variables are correctly linked to production variables\n",
        "prob += x1 <= 1000 * z1, \"Link_x1_z1\"\n",
        "prob += x2 <= 1000 * z1, \"Link_x2_z1\"\n",
        "prob += y1 <= 1000 * z2, \"Link_y1_z2\"\n",
        "prob += y2 <= 1000 * z2, \"Link_y2_z2\"\n",
        "\n",
        "# New minimum production constraints for both processes\n",
        "prob += x1 >= 10 * z1, \"Min_Production_Process_1_A\"\n",
        "prob += x2 >= 10 * z1, \"Min_Production_Process_1_B\"\n",
        "prob += y1 >= 10 * z2, \"Min_Production_Process_2_A\"\n",
        "prob += y2 >= 10 * z2, \"Min_Production_Process_2_B\"\n",
        "\n",
        "# Solve the problem\n",
        "prob.solve()\n",
        "\n",
        "# Print the results\n",
        "print(\"Status:\", pulp.LpStatus[prob.status])\n",
        "\n",
        "print(\"Optimal production of chemical A in process 1:\", pulp.value(x1))\n",
        "print(\"Optimal production of chemical B in process 1:\", pulp.value(x2))\n",
        "print(\"Optimal production of chemical A in process 2:\", pulp.value(y1))\n",
        "print(\"Optimal production of chemical B in process 2:\", pulp.value(y2))\n",
        "print(\"Process 1 used:\", pulp.value(z1))\n",
        "print(\"Process 2 used:\", pulp.value(z2))\n",
        "print(\"Total cost:\", pulp.value(prob.objective))\n"
      ],
      "metadata": {
        "colab": {
          "base_uri": "https://localhost:8080/"
        },
        "id": "fVOT4u8XJnmL",
        "outputId": "6f8aab10-e427-4bf9-f698-4fe7d27e4e6b"
      },
      "execution_count": 11,
      "outputs": [
        {
          "output_type": "stream",
          "name": "stdout",
          "text": [
            "Status: Optimal\n",
            "Optimal production of chemical A in process 1: 10.0\n",
            "Optimal production of chemical B in process 1: 10.0\n",
            "Optimal production of chemical A in process 2: 40.0\n",
            "Optimal production of chemical B in process 2: 30.0\n",
            "Process 1 used: 1.0\n",
            "Process 2 used: 1.0\n",
            "Total cost: 400.0\n"
          ]
        }
      ]
    },
    {
      "cell_type": "code",
      "source": [],
      "metadata": {
        "id": "13agF_v_J64N"
      },
      "execution_count": null,
      "outputs": []
    }
  ]
}